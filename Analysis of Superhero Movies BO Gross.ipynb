{
 "cells": [
  {
   "cell_type": "code",
   "execution_count": 1,
   "id": "3bf785fd",
   "metadata": {},
   "outputs": [],
   "source": [
    "#importing libraries\n",
    "import pandas as pd\n",
    "import seaborn as sns\n",
    "import numpy as np"
   ]
  },
  {
   "cell_type": "code",
   "execution_count": 5,
   "id": "6aab0d55",
   "metadata": {},
   "outputs": [],
   "source": [
    "#\n",
    "data = pd.read_csv(r\"C:\\Users\\DAWN\\Desktop\\mdc.csv\", encoding='latin-1')"
   ]
  },
  {
   "cell_type": "code",
   "execution_count": 6,
   "id": "3b42425d",
   "metadata": {},
   "outputs": [
    {
     "data": {
      "text/html": [
       "<div>\n",
       "<style scoped>\n",
       "    .dataframe tbody tr th:only-of-type {\n",
       "        vertical-align: middle;\n",
       "    }\n",
       "\n",
       "    .dataframe tbody tr th {\n",
       "        vertical-align: top;\n",
       "    }\n",
       "\n",
       "    .dataframe thead th {\n",
       "        text-align: right;\n",
       "    }\n",
       "</style>\n",
       "<table border=\"1\" class=\"dataframe\">\n",
       "  <thead>\n",
       "    <tr style=\"text-align: right;\">\n",
       "      <th></th>\n",
       "      <th>Column1</th>\n",
       "      <th>title</th>\n",
       "      <th>year</th>\n",
       "      <th>genre</th>\n",
       "      <th>runtime</th>\n",
       "      <th>mpa_rating</th>\n",
       "      <th>imdb_rating</th>\n",
       "      <th>imdb_votes</th>\n",
       "      <th>imdb_gross</th>\n",
       "      <th>director</th>\n",
       "      <th>stars</th>\n",
       "      <th>description</th>\n",
       "      <th>crit_consensus</th>\n",
       "      <th>tomato_meter</th>\n",
       "      <th>tomato_review</th>\n",
       "      <th>tom_aud_score</th>\n",
       "      <th>tom_ratings</th>\n",
       "      <th>entity</th>\n",
       "      <th>id</th>\n",
       "    </tr>\n",
       "  </thead>\n",
       "  <tbody>\n",
       "    <tr>\n",
       "      <th>0</th>\n",
       "      <td>1</td>\n",
       "      <td>Captain America</td>\n",
       "      <td>1944</td>\n",
       "      <td>Action, Adventure, Sci-Fi</td>\n",
       "      <td>244</td>\n",
       "      <td>Approved</td>\n",
       "      <td>5.5</td>\n",
       "      <td>844</td>\n",
       "      <td>0</td>\n",
       "      <td>Elmer Clifton</td>\n",
       "      <td>Elmer Clifton,Dick Purcell,Lorna Gray,Lionel A...</td>\n",
       "      <td>Superhero Captain America battles the evil for...</td>\n",
       "      <td>Find one of these old serials, friend. They're...</td>\n",
       "      <td>0</td>\n",
       "      <td>1</td>\n",
       "      <td>82</td>\n",
       "      <td>250</td>\n",
       "      <td>MARVEL</td>\n",
       "      <td>1</td>\n",
       "    </tr>\n",
       "    <tr>\n",
       "      <th>1</th>\n",
       "      <td>2</td>\n",
       "      <td>Howard the Duck</td>\n",
       "      <td>1986</td>\n",
       "      <td>Action, Adventure, Comedy</td>\n",
       "      <td>110</td>\n",
       "      <td>PG</td>\n",
       "      <td>4.7</td>\n",
       "      <td>44073</td>\n",
       "      <td>16300000</td>\n",
       "      <td>Willard Huyck</td>\n",
       "      <td>Willard Huyck,Lea Thompson,Jeffrey Jones,Tim R...</td>\n",
       "      <td>A sarcastic humanoid duck is pulled from his h...</td>\n",
       "      <td>While it has its moments, Howard the Duck suff...</td>\n",
       "      <td>13</td>\n",
       "      <td>78</td>\n",
       "      <td>38</td>\n",
       "      <td>50000</td>\n",
       "      <td>MARVEL</td>\n",
       "      <td>2</td>\n",
       "    </tr>\n",
       "    <tr>\n",
       "      <th>2</th>\n",
       "      <td>3</td>\n",
       "      <td>Blade</td>\n",
       "      <td>1998</td>\n",
       "      <td>Action, Horror, Sci-Fi</td>\n",
       "      <td>120</td>\n",
       "      <td>R</td>\n",
       "      <td>7.1</td>\n",
       "      <td>251243</td>\n",
       "      <td>70090000</td>\n",
       "      <td>Stephen Norrington</td>\n",
       "      <td>Stephen Norrington,Wesley Snipes,Stephen Dorff...</td>\n",
       "      <td>A half-vampire, half-mortal man becomes a prot...</td>\n",
       "      <td>Though some may find the plot a bit lacking, B...</td>\n",
       "      <td>55</td>\n",
       "      <td>103</td>\n",
       "      <td>78</td>\n",
       "      <td>250000</td>\n",
       "      <td>MARVEL</td>\n",
       "      <td>3</td>\n",
       "    </tr>\n",
       "    <tr>\n",
       "      <th>3</th>\n",
       "      <td>4</td>\n",
       "      <td>X-Men</td>\n",
       "      <td>2000</td>\n",
       "      <td>Action, Adventure, Sci-Fi</td>\n",
       "      <td>104</td>\n",
       "      <td>PG-13</td>\n",
       "      <td>7.4</td>\n",
       "      <td>580354</td>\n",
       "      <td>157300000</td>\n",
       "      <td>Bryan Singer</td>\n",
       "      <td>Bryan Singer,Patrick Stewart,Hugh Jackman,Ian ...</td>\n",
       "      <td>In a world where mutants (evolved super-powere...</td>\n",
       "      <td>Faithful to the comics and filled with action,...</td>\n",
       "      <td>82</td>\n",
       "      <td>174</td>\n",
       "      <td>83</td>\n",
       "      <td>250000</td>\n",
       "      <td>MARVEL</td>\n",
       "      <td>4</td>\n",
       "    </tr>\n",
       "    <tr>\n",
       "      <th>4</th>\n",
       "      <td>5</td>\n",
       "      <td>Blade II</td>\n",
       "      <td>2002</td>\n",
       "      <td>Action, Fantasy, Horror</td>\n",
       "      <td>117</td>\n",
       "      <td>R</td>\n",
       "      <td>6.7</td>\n",
       "      <td>203813</td>\n",
       "      <td>82350000</td>\n",
       "      <td>Guillermo del Toro</td>\n",
       "      <td>Guillermo del Toro,Wesley Snipes,Kris Kristoff...</td>\n",
       "      <td>Blade forms an uneasy alliance with the vampir...</td>\n",
       "      <td>Though Blade II offers more of what worked in ...</td>\n",
       "      <td>57</td>\n",
       "      <td>150</td>\n",
       "      <td>68</td>\n",
       "      <td>250000</td>\n",
       "      <td>MARVEL</td>\n",
       "      <td>5</td>\n",
       "    </tr>\n",
       "  </tbody>\n",
       "</table>\n",
       "</div>"
      ],
      "text/plain": [
       "   Column1            title  year                      genre  runtime  \\\n",
       "0        1  Captain America  1944  Action, Adventure, Sci-Fi      244   \n",
       "1        2  Howard the Duck  1986  Action, Adventure, Comedy      110   \n",
       "2        3            Blade  1998     Action, Horror, Sci-Fi      120   \n",
       "3        4            X-Men  2000  Action, Adventure, Sci-Fi      104   \n",
       "4        5         Blade II  2002    Action, Fantasy, Horror      117   \n",
       "\n",
       "  mpa_rating  imdb_rating  imdb_votes  imdb_gross            director  \\\n",
       "0   Approved          5.5         844           0       Elmer Clifton   \n",
       "1         PG          4.7       44073    16300000       Willard Huyck   \n",
       "2          R          7.1      251243    70090000  Stephen Norrington   \n",
       "3      PG-13          7.4      580354   157300000        Bryan Singer   \n",
       "4          R          6.7      203813    82350000  Guillermo del Toro   \n",
       "\n",
       "                                               stars  \\\n",
       "0  Elmer Clifton,Dick Purcell,Lorna Gray,Lionel A...   \n",
       "1  Willard Huyck,Lea Thompson,Jeffrey Jones,Tim R...   \n",
       "2  Stephen Norrington,Wesley Snipes,Stephen Dorff...   \n",
       "3  Bryan Singer,Patrick Stewart,Hugh Jackman,Ian ...   \n",
       "4  Guillermo del Toro,Wesley Snipes,Kris Kristoff...   \n",
       "\n",
       "                                         description  \\\n",
       "0  Superhero Captain America battles the evil for...   \n",
       "1  A sarcastic humanoid duck is pulled from his h...   \n",
       "2  A half-vampire, half-mortal man becomes a prot...   \n",
       "3  In a world where mutants (evolved super-powere...   \n",
       "4  Blade forms an uneasy alliance with the vampir...   \n",
       "\n",
       "                                      crit_consensus  tomato_meter  \\\n",
       "0  Find one of these old serials, friend. They're...             0   \n",
       "1  While it has its moments, Howard the Duck suff...            13   \n",
       "2  Though some may find the plot a bit lacking, B...            55   \n",
       "3  Faithful to the comics and filled with action,...            82   \n",
       "4  Though Blade II offers more of what worked in ...            57   \n",
       "\n",
       "   tomato_review  tom_aud_score  tom_ratings  entity  id  \n",
       "0              1             82          250  MARVEL   1  \n",
       "1             78             38        50000  MARVEL   2  \n",
       "2            103             78       250000  MARVEL   3  \n",
       "3            174             83       250000  MARVEL   4  \n",
       "4            150             68       250000  MARVEL   5  "
      ]
     },
     "execution_count": 6,
     "metadata": {},
     "output_type": "execute_result"
    }
   ],
   "source": [
    "data.head()"
   ]
  },
  {
   "cell_type": "code",
   "execution_count": 7,
   "id": "f7211eca",
   "metadata": {},
   "outputs": [
    {
     "data": {
      "text/html": [
       "<div>\n",
       "<style scoped>\n",
       "    .dataframe tbody tr th:only-of-type {\n",
       "        vertical-align: middle;\n",
       "    }\n",
       "\n",
       "    .dataframe tbody tr th {\n",
       "        vertical-align: top;\n",
       "    }\n",
       "\n",
       "    .dataframe thead th {\n",
       "        text-align: right;\n",
       "    }\n",
       "</style>\n",
       "<table border=\"1\" class=\"dataframe\">\n",
       "  <thead>\n",
       "    <tr style=\"text-align: right;\">\n",
       "      <th></th>\n",
       "      <th>Column1</th>\n",
       "      <th>title</th>\n",
       "      <th>year</th>\n",
       "      <th>genre</th>\n",
       "      <th>runtime</th>\n",
       "      <th>mpa_rating</th>\n",
       "      <th>imdb_rating</th>\n",
       "      <th>imdb_votes</th>\n",
       "      <th>imdb_gross</th>\n",
       "      <th>director</th>\n",
       "      <th>stars</th>\n",
       "      <th>description</th>\n",
       "      <th>crit_consensus</th>\n",
       "      <th>tomato_meter</th>\n",
       "      <th>tomato_review</th>\n",
       "      <th>tom_aud_score</th>\n",
       "      <th>tom_ratings</th>\n",
       "      <th>entity</th>\n",
       "      <th>id</th>\n",
       "    </tr>\n",
       "  </thead>\n",
       "  <tbody>\n",
       "    <tr>\n",
       "      <th>85</th>\n",
       "      <td>86</td>\n",
       "      <td>Aquaman</td>\n",
       "      <td>2018</td>\n",
       "      <td>Action, Adventure, Fantasy</td>\n",
       "      <td>143</td>\n",
       "      <td>PG-13</td>\n",
       "      <td>6.9</td>\n",
       "      <td>400424</td>\n",
       "      <td>335060000</td>\n",
       "      <td>James Wan</td>\n",
       "      <td>Jason Momoa,Amber Heard,Willem Dafoe,Patrick W...</td>\n",
       "      <td>Arthur Curry, the human-born heir to the under...</td>\n",
       "      <td>Aquaman swims with its entertainingly ludicrou...</td>\n",
       "      <td>65</td>\n",
       "      <td>406</td>\n",
       "      <td>74</td>\n",
       "      <td>25000</td>\n",
       "      <td>DC</td>\n",
       "      <td>86</td>\n",
       "    </tr>\n",
       "    <tr>\n",
       "      <th>86</th>\n",
       "      <td>87</td>\n",
       "      <td>Shazam!</td>\n",
       "      <td>2019</td>\n",
       "      <td>Action, Adventure, Comedy</td>\n",
       "      <td>132</td>\n",
       "      <td>PG-13</td>\n",
       "      <td>7.0</td>\n",
       "      <td>279604</td>\n",
       "      <td>140370000</td>\n",
       "      <td>David F. Sandberg</td>\n",
       "      <td>Zachary Levi,Mark Strong,Asher Angel,Jack Dyla...</td>\n",
       "      <td>A newly fostered young boy in search of his mo...</td>\n",
       "      <td>An effortlessly entertaining blend of humor an...</td>\n",
       "      <td>90</td>\n",
       "      <td>409</td>\n",
       "      <td>82</td>\n",
       "      <td>10000</td>\n",
       "      <td>DC</td>\n",
       "      <td>87</td>\n",
       "    </tr>\n",
       "    <tr>\n",
       "      <th>87</th>\n",
       "      <td>88</td>\n",
       "      <td>Joker</td>\n",
       "      <td>2019</td>\n",
       "      <td>Crime, Drama, Thriller</td>\n",
       "      <td>122</td>\n",
       "      <td>R</td>\n",
       "      <td>8.4</td>\n",
       "      <td>1014748</td>\n",
       "      <td>335450000</td>\n",
       "      <td>Todd Phillips</td>\n",
       "      <td>Joaquin Phoenix,Robert De Niro,Zazie Beetz,Fra...</td>\n",
       "      <td>In Gotham City, mentally troubled comedian Art...</td>\n",
       "      <td>Joker gives its infamous central character a c...</td>\n",
       "      <td>68</td>\n",
       "      <td>585</td>\n",
       "      <td>88</td>\n",
       "      <td>50000</td>\n",
       "      <td>DC</td>\n",
       "      <td>88</td>\n",
       "    </tr>\n",
       "    <tr>\n",
       "      <th>88</th>\n",
       "      <td>89</td>\n",
       "      <td>Birds of Prey</td>\n",
       "      <td>2020</td>\n",
       "      <td>Action, Adventure, Comedy</td>\n",
       "      <td>109</td>\n",
       "      <td>R</td>\n",
       "      <td>6.1</td>\n",
       "      <td>186805</td>\n",
       "      <td>84160000</td>\n",
       "      <td>Cathy Yan</td>\n",
       "      <td>Margot Robbie,Rosie Perez,Mary Elizabeth Winst...</td>\n",
       "      <td>After splitting with the Joker, Harley Quinn j...</td>\n",
       "      <td>With a fresh perspective, some new friends, an...</td>\n",
       "      <td>79</td>\n",
       "      <td>430</td>\n",
       "      <td>78</td>\n",
       "      <td>10000</td>\n",
       "      <td>DC</td>\n",
       "      <td>89</td>\n",
       "    </tr>\n",
       "    <tr>\n",
       "      <th>89</th>\n",
       "      <td>90</td>\n",
       "      <td>Wonder Woman 1984</td>\n",
       "      <td>2020</td>\n",
       "      <td>Action, Adventure, Fantasy</td>\n",
       "      <td>151</td>\n",
       "      <td>PG-13</td>\n",
       "      <td>5.4</td>\n",
       "      <td>212554</td>\n",
       "      <td>46370000</td>\n",
       "      <td>Patty Jenkins</td>\n",
       "      <td>Gal Gadot,Chris Pine,Kristen Wiig,Pedro Pascal</td>\n",
       "      <td>Diana must contend with a work colleague and b...</td>\n",
       "      <td>Wonder Woman 1984 struggles with sequel overlo...</td>\n",
       "      <td>59</td>\n",
       "      <td>431</td>\n",
       "      <td>73</td>\n",
       "      <td>2500</td>\n",
       "      <td>DC</td>\n",
       "      <td>90</td>\n",
       "    </tr>\n",
       "  </tbody>\n",
       "</table>\n",
       "</div>"
      ],
      "text/plain": [
       "    Column1              title  year                       genre  runtime  \\\n",
       "85       86            Aquaman  2018  Action, Adventure, Fantasy      143   \n",
       "86       87            Shazam!  2019   Action, Adventure, Comedy      132   \n",
       "87       88              Joker  2019      Crime, Drama, Thriller      122   \n",
       "88       89      Birds of Prey  2020   Action, Adventure, Comedy      109   \n",
       "89       90  Wonder Woman 1984  2020  Action, Adventure, Fantasy      151   \n",
       "\n",
       "   mpa_rating  imdb_rating  imdb_votes  imdb_gross           director  \\\n",
       "85      PG-13          6.9      400424   335060000          James Wan   \n",
       "86      PG-13          7.0      279604   140370000  David F. Sandberg   \n",
       "87          R          8.4     1014748   335450000      Todd Phillips   \n",
       "88          R          6.1      186805    84160000          Cathy Yan   \n",
       "89      PG-13          5.4      212554    46370000      Patty Jenkins   \n",
       "\n",
       "                                                stars  \\\n",
       "85  Jason Momoa,Amber Heard,Willem Dafoe,Patrick W...   \n",
       "86  Zachary Levi,Mark Strong,Asher Angel,Jack Dyla...   \n",
       "87  Joaquin Phoenix,Robert De Niro,Zazie Beetz,Fra...   \n",
       "88  Margot Robbie,Rosie Perez,Mary Elizabeth Winst...   \n",
       "89     Gal Gadot,Chris Pine,Kristen Wiig,Pedro Pascal   \n",
       "\n",
       "                                          description  \\\n",
       "85  Arthur Curry, the human-born heir to the under...   \n",
       "86  A newly fostered young boy in search of his mo...   \n",
       "87  In Gotham City, mentally troubled comedian Art...   \n",
       "88  After splitting with the Joker, Harley Quinn j...   \n",
       "89  Diana must contend with a work colleague and b...   \n",
       "\n",
       "                                       crit_consensus  tomato_meter  \\\n",
       "85  Aquaman swims with its entertainingly ludicrou...            65   \n",
       "86  An effortlessly entertaining blend of humor an...            90   \n",
       "87  Joker gives its infamous central character a c...            68   \n",
       "88  With a fresh perspective, some new friends, an...            79   \n",
       "89  Wonder Woman 1984 struggles with sequel overlo...            59   \n",
       "\n",
       "    tomato_review  tom_aud_score  tom_ratings entity  id  \n",
       "85            406             74        25000     DC  86  \n",
       "86            409             82        10000     DC  87  \n",
       "87            585             88        50000     DC  88  \n",
       "88            430             78        10000     DC  89  \n",
       "89            431             73         2500     DC  90  "
      ]
     },
     "execution_count": 7,
     "metadata": {},
     "output_type": "execute_result"
    }
   ],
   "source": [
    "data.tail()"
   ]
  },
  {
   "cell_type": "code",
   "execution_count": 8,
   "id": "f4d5819d",
   "metadata": {},
   "outputs": [
    {
     "data": {
      "text/plain": [
       "Index(['Column1', 'title', 'year', 'genre', 'runtime', 'mpa_rating',\n",
       "       'imdb_rating', 'imdb_votes', 'imdb_gross', 'director', 'stars',\n",
       "       'description', 'crit_consensus', 'tomato_meter', 'tomato_review',\n",
       "       'tom_aud_score', 'tom_ratings', 'entity', 'id'],\n",
       "      dtype='object')"
      ]
     },
     "execution_count": 8,
     "metadata": {},
     "output_type": "execute_result"
    }
   ],
   "source": [
    "data.columns"
   ]
  },
  {
   "cell_type": "code",
   "execution_count": 9,
   "id": "59c135b3",
   "metadata": {},
   "outputs": [
    {
     "data": {
      "text/plain": [
       "(90, 19)"
      ]
     },
     "execution_count": 9,
     "metadata": {},
     "output_type": "execute_result"
    }
   ],
   "source": [
    "data.shape"
   ]
  },
  {
   "cell_type": "code",
   "execution_count": 10,
   "id": "69f133a7",
   "metadata": {},
   "outputs": [
    {
     "data": {
      "text/html": [
       "<div>\n",
       "<style scoped>\n",
       "    .dataframe tbody tr th:only-of-type {\n",
       "        vertical-align: middle;\n",
       "    }\n",
       "\n",
       "    .dataframe tbody tr th {\n",
       "        vertical-align: top;\n",
       "    }\n",
       "\n",
       "    .dataframe thead th {\n",
       "        text-align: right;\n",
       "    }\n",
       "</style>\n",
       "<table border=\"1\" class=\"dataframe\">\n",
       "  <thead>\n",
       "    <tr style=\"text-align: right;\">\n",
       "      <th></th>\n",
       "      <th>Column1</th>\n",
       "      <th>year</th>\n",
       "      <th>runtime</th>\n",
       "      <th>imdb_rating</th>\n",
       "      <th>imdb_votes</th>\n",
       "      <th>imdb_gross</th>\n",
       "      <th>tomato_meter</th>\n",
       "      <th>tomato_review</th>\n",
       "      <th>tom_aud_score</th>\n",
       "      <th>tom_ratings</th>\n",
       "      <th>id</th>\n",
       "    </tr>\n",
       "  </thead>\n",
       "  <tbody>\n",
       "    <tr>\n",
       "      <th>count</th>\n",
       "      <td>90.000000</td>\n",
       "      <td>90.000000</td>\n",
       "      <td>90.000000</td>\n",
       "      <td>90.000000</td>\n",
       "      <td>9.000000e+01</td>\n",
       "      <td>9.000000e+01</td>\n",
       "      <td>90.000000</td>\n",
       "      <td>90.000000</td>\n",
       "      <td>90.000000</td>\n",
       "      <td>90.000000</td>\n",
       "      <td>90.000000</td>\n",
       "    </tr>\n",
       "    <tr>\n",
       "      <th>mean</th>\n",
       "      <td>45.500000</td>\n",
       "      <td>2006.377778</td>\n",
       "      <td>124.144444</td>\n",
       "      <td>6.552222</td>\n",
       "      <td>4.652830e+05</td>\n",
       "      <td>2.123682e+08</td>\n",
       "      <td>59.900000</td>\n",
       "      <td>266.966667</td>\n",
       "      <td>66.733333</td>\n",
       "      <td>150311.111111</td>\n",
       "      <td>45.500000</td>\n",
       "    </tr>\n",
       "    <tr>\n",
       "      <th>std</th>\n",
       "      <td>26.124701</td>\n",
       "      <td>14.335920</td>\n",
       "      <td>23.522192</td>\n",
       "      <td>1.271576</td>\n",
       "      <td>3.834906e+05</td>\n",
       "      <td>1.737576e+08</td>\n",
       "      <td>29.439731</td>\n",
       "      <td>144.250597</td>\n",
       "      <td>22.646179</td>\n",
       "      <td>98166.343799</td>\n",
       "      <td>26.124701</td>\n",
       "    </tr>\n",
       "    <tr>\n",
       "      <th>min</th>\n",
       "      <td>1.000000</td>\n",
       "      <td>1944.000000</td>\n",
       "      <td>58.000000</td>\n",
       "      <td>2.900000</td>\n",
       "      <td>8.440000e+02</td>\n",
       "      <td>0.000000e+00</td>\n",
       "      <td>0.000000</td>\n",
       "      <td>1.000000</td>\n",
       "      <td>15.000000</td>\n",
       "      <td>250.000000</td>\n",
       "      <td>1.000000</td>\n",
       "    </tr>\n",
       "    <tr>\n",
       "      <th>25%</th>\n",
       "      <td>23.250000</td>\n",
       "      <td>2003.250000</td>\n",
       "      <td>110.500000</td>\n",
       "      <td>5.700000</td>\n",
       "      <td>1.910570e+05</td>\n",
       "      <td>7.757250e+07</td>\n",
       "      <td>31.250000</td>\n",
       "      <td>156.250000</td>\n",
       "      <td>55.250000</td>\n",
       "      <td>50000.000000</td>\n",
       "      <td>23.250000</td>\n",
       "    </tr>\n",
       "    <tr>\n",
       "      <th>50%</th>\n",
       "      <td>45.500000</td>\n",
       "      <td>2011.000000</td>\n",
       "      <td>124.000000</td>\n",
       "      <td>6.900000</td>\n",
       "      <td>4.212640e+05</td>\n",
       "      <td>1.806150e+08</td>\n",
       "      <td>67.500000</td>\n",
       "      <td>277.500000</td>\n",
       "      <td>73.500000</td>\n",
       "      <td>100000.000000</td>\n",
       "      <td>45.500000</td>\n",
       "    </tr>\n",
       "    <tr>\n",
       "      <th>75%</th>\n",
       "      <td>67.750000</td>\n",
       "      <td>2016.000000</td>\n",
       "      <td>136.000000</td>\n",
       "      <td>7.400000</td>\n",
       "      <td>6.548668e+05</td>\n",
       "      <td>3.249725e+08</td>\n",
       "      <td>85.750000</td>\n",
       "      <td>377.250000</td>\n",
       "      <td>85.000000</td>\n",
       "      <td>250000.000000</td>\n",
       "      <td>67.750000</td>\n",
       "    </tr>\n",
       "    <tr>\n",
       "      <th>max</th>\n",
       "      <td>90.000000</td>\n",
       "      <td>2020.000000</td>\n",
       "      <td>244.000000</td>\n",
       "      <td>9.000000</td>\n",
       "      <td>2.369304e+06</td>\n",
       "      <td>8.583700e+08</td>\n",
       "      <td>96.000000</td>\n",
       "      <td>585.000000</td>\n",
       "      <td>95.000000</td>\n",
       "      <td>250000.000000</td>\n",
       "      <td>90.000000</td>\n",
       "    </tr>\n",
       "  </tbody>\n",
       "</table>\n",
       "</div>"
      ],
      "text/plain": [
       "         Column1         year     runtime  imdb_rating    imdb_votes  \\\n",
       "count  90.000000    90.000000   90.000000    90.000000  9.000000e+01   \n",
       "mean   45.500000  2006.377778  124.144444     6.552222  4.652830e+05   \n",
       "std    26.124701    14.335920   23.522192     1.271576  3.834906e+05   \n",
       "min     1.000000  1944.000000   58.000000     2.900000  8.440000e+02   \n",
       "25%    23.250000  2003.250000  110.500000     5.700000  1.910570e+05   \n",
       "50%    45.500000  2011.000000  124.000000     6.900000  4.212640e+05   \n",
       "75%    67.750000  2016.000000  136.000000     7.400000  6.548668e+05   \n",
       "max    90.000000  2020.000000  244.000000     9.000000  2.369304e+06   \n",
       "\n",
       "         imdb_gross  tomato_meter  tomato_review  tom_aud_score  \\\n",
       "count  9.000000e+01     90.000000      90.000000      90.000000   \n",
       "mean   2.123682e+08     59.900000     266.966667      66.733333   \n",
       "std    1.737576e+08     29.439731     144.250597      22.646179   \n",
       "min    0.000000e+00      0.000000       1.000000      15.000000   \n",
       "25%    7.757250e+07     31.250000     156.250000      55.250000   \n",
       "50%    1.806150e+08     67.500000     277.500000      73.500000   \n",
       "75%    3.249725e+08     85.750000     377.250000      85.000000   \n",
       "max    8.583700e+08     96.000000     585.000000      95.000000   \n",
       "\n",
       "         tom_ratings         id  \n",
       "count      90.000000  90.000000  \n",
       "mean   150311.111111  45.500000  \n",
       "std     98166.343799  26.124701  \n",
       "min       250.000000   1.000000  \n",
       "25%     50000.000000  23.250000  \n",
       "50%    100000.000000  45.500000  \n",
       "75%    250000.000000  67.750000  \n",
       "max    250000.000000  90.000000  "
      ]
     },
     "execution_count": 10,
     "metadata": {},
     "output_type": "execute_result"
    }
   ],
   "source": [
    "data.describe()"
   ]
  },
  {
   "cell_type": "code",
   "execution_count": 12,
   "id": "ee12832a",
   "metadata": {},
   "outputs": [
    {
     "data": {
      "text/plain": [
       "<seaborn.axisgrid.FacetGrid at 0x18478c17fa0>"
      ]
     },
     "execution_count": 12,
     "metadata": {},
     "output_type": "execute_result"
    },
    {
     "data": {
      "image/png": "[encoded data removed]",
      "text/plain": [
       "<Figure size 360x360 with 1 Axes>"
      ]
     },
     "metadata": {
      "needs_background": "light"
     },
     "output_type": "display_data"
    }
   ],
   "source": [
    "#visualization\n",
    "sns.relplot(x='imdb_gross', y='imdb_rating', data=data)"
   ]
  },
  {
   "cell_type": "code",
   "execution_count": 13,
   "id": "15d12019",
   "metadata": {},
   "outputs": [
    {
     "data": {
      "text/plain": [
       "<seaborn.axisgrid.FacetGrid at 0x18478cc8df0>"
      ]
     },
     "execution_count": 13,
     "metadata": {},
     "output_type": "execute_result"
    },
    {
     "data": {
      "image/png": "[encoded data removed]",
      "text/plain": [
       "<Figure size 360x360 with 1 Axes>"
      ]
     },
     "metadata": {
      "needs_background": "light"
     },
     "output_type": "display_data"
    }
   ],
   "source": [
    "sns.relplot(x='imdb_gross', y='tom_aud_score', data=data)"
   ]
  },
  {
   "cell_type": "code",
   "execution_count": 15,
   "id": "50b53a2a",
   "metadata": {},
   "outputs": [
    {
     "data": {
      "text/plain": [
       "<seaborn.axisgrid.FacetGrid at 0x18478c48df0>"
      ]
     },
     "execution_count": 15,
     "metadata": {},
     "output_type": "execute_result"
    },
    {
     "data": {
      "image/png": "[encoded data removed]",
      "text/plain": [
       "<Figure size 360x360 with 1 Axes>"
      ]
     },
     "metadata": {
      "needs_background": "light"
     },
     "output_type": "display_data"
    }
   ],
   "source": [
    "sns.relplot(x='imdb_gross', y='tomato_meter', data=data)"
   ]
  },
  {
   "cell_type": "code",
   "execution_count": 18,
   "id": "5a7cb1d9",
   "metadata": {},
   "outputs": [
    {
     "data": {
      "text/plain": [
       "<seaborn.axisgrid.FacetGrid at 0x18478edc760>"
      ]
     },
     "execution_count": 18,
     "metadata": {},
     "output_type": "execute_result"
    },
    {
     "data": {
      "image/png": "[encoded data removed]",
      "text/plain": [
       "<Figure size 360x360 with 1 Axes>"
      ]
     },
     "metadata": {
      "needs_background": "light"
     },
     "output_type": "display_data"
    }
   ],
   "source": [
    "sns.relplot(x='imdb_gross', y='tomato_review', data=data)"
   ]
  },
  {
   "cell_type": "code",
   "execution_count": 19,
   "id": "2b17e4c6",
   "metadata": {},
   "outputs": [
    {
     "data": {
      "text/plain": [
       "<seaborn.axisgrid.FacetGrid at 0x18478e7f640>"
      ]
     },
     "execution_count": 19,
     "metadata": {},
     "output_type": "execute_result"
    },
    {
     "data": {
      "image/png": "[encoded data removed]",
      "text/plain": [
       "<Figure size 434.25x360 with 1 Axes>"
      ]
     },
     "metadata": {
      "needs_background": "light"
     },
     "output_type": "display_data"
    }
   ],
   "source": [
    "sns.relplot(x='imdb_gross', y='tom_aud_score', hue = 'tom_ratings', data=data)"
   ]
  },
  {
   "cell_type": "code",
   "execution_count": 21,
   "id": "680020c0",
   "metadata": {},
   "outputs": [],
   "source": [
    "#using Linear Regression\n",
    "from sklearn.linear_model import LinearRegression\n",
    "from sklearn.model_selection import train_test_split"
   ]
  },
  {
   "cell_type": "code",
   "execution_count": 22,
   "id": "3aa08726",
   "metadata": {},
   "outputs": [],
   "source": [
    "train = data.drop(['imdb_gross','entity','id','crit_consensus','director','stars','description','genre','mpa_rating','runtime','title','Column1'], axis=1)\n",
    "test = data['imdb_gross']"
   ]
  },
  {
   "cell_type": "code",
   "execution_count": 24,
   "id": "887004b7",
   "metadata": {},
   "outputs": [],
   "source": [
    "X_train, X_test, y_train, y_test = train_test_split(train, test, test_size=0.3, random_state=2)"
   ]
  },
  {
   "cell_type": "code",
   "execution_count": 25,
   "id": "3f668b35",
   "metadata": {},
   "outputs": [],
   "source": [
    "regr = LinearRegression()"
   ]
  },
  {
   "cell_type": "code",
   "execution_count": 26,
   "id": "0d4ec8a3",
   "metadata": {},
   "outputs": [
    {
     "data": {
      "text/plain": [
       "LinearRegression()"
      ]
     },
     "execution_count": 26,
     "metadata": {},
     "output_type": "execute_result"
    }
   ],
   "source": [
    "regr.fit(X_train, y_train)"
   ]
  },
  {
   "cell_type": "code",
   "execution_count": 28,
   "id": "c4762e4a",
   "metadata": {},
   "outputs": [],
   "source": [
    "pred = regr.predict(X_test)"
   ]
  },
  {
   "cell_type": "code",
   "execution_count": 29,
   "id": "85bb2af9",
   "metadata": {},
   "outputs": [
    {
     "data": {
      "text/plain": [
       "array([ 3.84545410e+08,  4.35279200e+07,  2.56670110e+08,  4.61937354e+08,\n",
       "        3.13847113e+08,  2.07008641e+08,  5.96437451e+07,  2.07465204e+08,\n",
       "        2.12789335e+08, -8.45482165e+07,  2.04830499e+08,  1.31905617e+08,\n",
       "        1.82492671e+08,  4.38735850e+08,  2.68979001e+08,  2.63841188e+08,\n",
       "        5.70257682e+07,  2.71728097e+08,  2.08475881e+08,  4.15122868e+08,\n",
       "        3.08184568e+08,  3.59653506e+08, -9.46090951e+07,  7.53683329e+05,\n",
       "        3.27185394e+08,  2.60353865e+08,  4.36085310e+08])"
      ]
     },
     "execution_count": 29,
     "metadata": {},
     "output_type": "execute_result"
    }
   ],
   "source": [
    "pred"
   ]
  },
  {
   "cell_type": "code",
   "execution_count": 30,
   "id": "404f2247",
   "metadata": {},
   "outputs": [
    {
     "data": {
      "text/plain": [
       "0.6559414823909462"
      ]
     },
     "execution_count": 30,
     "metadata": {},
     "output_type": "execute_result"
    }
   ],
   "source": [
    "#Accuracy Test\n",
    "regr.score(X_test,y_test)"
   ]
  }
 ],
 "metadata": {
  "kernelspec": {
   "display_name": "Python 3 (ipykernel)",
   "language": "python",
   "name": "python3"
  },
  "language_info": {
   "codemirror_mode": {
    "name": "ipython",
    "version": 3
   },
   "file_extension": ".py",
   "mimetype": "text/x-python",
   "name": "python",
   "nbconvert_exporter": "python",
   "pygments_lexer": "ipython3",
   "version": "3.9.7"
  }
 },
 "nbformat": 4,
 "nbformat_minor": 5
}
